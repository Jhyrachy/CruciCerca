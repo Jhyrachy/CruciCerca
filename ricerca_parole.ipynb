{
 "cells": [
  {
   "cell_type": "markdown",
   "id": "4070105a",
   "metadata": {},
   "source": [
    "Progetto per trovare parole adatte ad un cruciverba"
   ]
  },
  {
   "cell_type": "markdown",
   "id": "62c92663",
   "metadata": {},
   "source": [
    "Prima dobbiamo importare il file .txt con il nostro dizionario di tutte le parole. una parola per riga; e inserirle in un vettore che consenta di iterare lettera per lettera quando dovremo cercare corrispondenze"
   ]
  },
  {
   "cell_type": "code",
   "execution_count": 30,
   "id": "3bccf741",
   "metadata": {},
   "outputs": [],
   "source": [
    "def importa_dizionario(percorsi_file):\n",
    "    \"\"\"\n",
    "    Importa parole da uno o più file di dizionario.\n",
    "    \n",
    "    Args:\n",
    "        percorsi_file: Stringa con un singolo percorso o lista di percorsi ai file dizionario\n",
    "    \n",
    "    Returns:\n",
    "        Lista di parole dove ogni parola è rappresentata come lista di caratteri\n",
    "    \"\"\"\n",
    "    # Se è una stringa, convertila in lista\n",
    "    if isinstance(percorsi_file, str):\n",
    "        percorsi_file = [percorsi_file]\n",
    "    \n",
    "    parole = []\n",
    "    for percorso_file in percorsi_file:\n",
    "        try:\n",
    "            with open(percorso_file, 'r', encoding='utf-8') as f:\n",
    "                parole_file = [list(riga.strip().lower()) for riga in f if riga.strip()]\n",
    "                parole.extend(parole_file)\n",
    "                print(f\"Importate {len(parole_file)} parole da {percorso_file}\")\n",
    "        except FileNotFoundError:\n",
    "            print(f\"Attenzione: File {percorso_file} non trovato\")\n",
    "        except Exception as e:\n",
    "            print(f\"Errore durante l'importazione di {percorso_file}: {e}\")\n",
    "    \n",
    "    # Rimuovi duplicati mantenendo l'ordine\n",
    "    parole_uniche = []\n",
    "    parole_viste = set()\n",
    "    for parola in parole:\n",
    "        parola_str = ''.join(parola)\n",
    "        if parola_str not in parole_viste:\n",
    "            parole_uniche.append(parola)\n",
    "            parole_viste.add(parola_str)\n",
    "    \n",
    "    print(f\"Totale parole uniche importate: {len(parole_uniche)}\")\n",
    "    return parole_uniche"
   ]
  },
  {
   "cell_type": "markdown",
   "id": "962f5064",
   "metadata": {},
   "source": [
    "Adesso dobbiamo creare la funzione per la ricerca mediante caratteri jolly"
   ]
  },
  {
   "cell_type": "code",
   "execution_count": 31,
   "id": "5c6a4aa5",
   "metadata": {},
   "outputs": [],
   "source": [
    "def cerca_parole(parole, pattern):\n",
    "    \"\"\"\n",
    "    Cerca parole che corrispondono al pattern, dove '*' è un carattere jolly.\n",
    "    La ricerca è case insensitive.\n",
    "    Esempio: '**o**' trova parole di 5 lettere con 'o' come terza lettera.\n",
    "    \"\"\"\n",
    "    # Converte il pattern in minuscolo per confronto case insensitive\n",
    "    pattern = pattern.lower()\n",
    "    \n",
    "    risultati = []\n",
    "    for parola in parole:\n",
    "        if len(parola) != len(pattern):\n",
    "            continue\n",
    "        corrisponde = True\n",
    "        for p_char, pat_char in zip(parola, pattern):\n",
    "            if pat_char != '*' and p_char != pat_char:\n",
    "                corrisponde = False\n",
    "                break\n",
    "        if corrisponde:\n",
    "            risultati.append(''.join(parola))\n",
    "    return risultati"
   ]
  },
  {
   "cell_type": "markdown",
   "id": "98a82379",
   "metadata": {},
   "source": [
    "Adesso il programma può essere utilizzato per cercare parole in un dizionario."
   ]
  },
  {
   "cell_type": "code",
   "execution_count": 32,
   "id": "fee90f2b",
   "metadata": {},
   "outputs": [
    {
     "name": "stdout",
     "output_type": "stream",
     "text": [
      "Importate 279894 parole da dizionario_ita.txt\n",
      "Importate 466550 parole da dizionario_eng.txt\n",
      "Importate 466550 parole da dizionario_eng.txt\n",
      "Totale parole uniche importate: 734120\n",
      "Parole trovate per il pattern 'c**a':\n",
      "1. cada\n",
      "2. cala\n",
      "3. capa\n",
      "4. cara\n",
      "5. casa\n",
      "6. cava\n",
      "7. ceca\n",
      "8. cela\n",
      "9. cena\n",
      "10. cera\n",
      "... e altre 45 parole\n",
      "Totale parole uniche importate: 734120\n",
      "Parole trovate per il pattern 'c**a':\n",
      "1. cada\n",
      "2. cala\n",
      "3. capa\n",
      "4. cara\n",
      "5. casa\n",
      "6. cava\n",
      "7. ceca\n",
      "8. cela\n",
      "9. cena\n",
      "10. cera\n",
      "... e altre 45 parole\n"
     ]
    }
   ],
   "source": [
    "# Esempio pratico di utilizzo\n",
    "\n",
    "# Importa parole da entrambi i dizionari\n",
    "parole = importa_dizionario(['dizionario_ita.txt', 'dizionario_eng.txt'])\n",
    "\n",
    "# Cerca una parola specifica (esempio: parole di 4 lettere che iniziano con 'c' e finiscono con 'a')\n",
    "pattern = 'c**a'\n",
    "risultati = cerca_parole(parole, pattern)\n",
    "\n",
    "print(f\"Parole trovate per il pattern '{pattern}':\")\n",
    "for i, parola in enumerate(risultati[:10]):  # Mostra solo le prime 10\n",
    "    print(f\"{i+1}. {parola}\")\n",
    "\n",
    "if len(risultati) > 10:\n",
    "    print(f\"... e altre {len(risultati) - 10} parole\")"
   ]
  },
  {
   "cell_type": "code",
   "execution_count": 34,
   "id": "f7fe0f04",
   "metadata": {},
   "outputs": [
    {
     "name": "stdout",
     "output_type": "stream",
     "text": [
      "Parole trovate per il pattern '****ei':\n",
      "['abigei', 'acquei', 'aculei', 'agirei', 'alisei', 'amebei', 'amerei', 'andrei', 'apogei', 'aramei', 'arerei', 'ascrei', 'atenei', 'babbei', 'baggei', 'balnei', 'baltei', 'barcei', 'battei', 'berrei', 'cammei', 'carnei', 'clipei', 'cornei', 'correi', 'cortei', 'costei', 'credei', 'crocei', 'cuprei', 'dovrei', 'eitrei', 'epigei', 'eterei', 'fendei', 'ferrei', 'fremei', 'gemmei', 'giudei', 'glutei', 'idonei', 'imenei', 'ipogei', 'lattei', 'laurei', 'lignei', 'lincei', 'lintei', 'mallei', 'mazdei', 'mellei', 'mietei', 'mirtei', 'mitrei', 'morrei', 'nausei', 'nervei', 'ninfei', 'nuclei', 'occhei', 'oserei', 'pendei', 'perdei', 'pigmei', 'plebei', 'plutei', 'pompei', 'porrei', 'potrei', 'premei', 'protei', 'rendei', 'saprei', 'scalei', 'sfarei', 'spelei', 'starei', 'tarpei', 'terrei', 'tessei', 'tornei', 'trofei', 'unirei', 'userei', 'uvacei', 'vedrei', 'vendei', 'verrei', 'vitrei', 'vivrei', 'vorrei', 'adigei', 'adygei', 'alexei', 'anhwei', 'brunei', 'burkei', 'cephei', 'chapei', 'chorei', 'ciskei', 'clypei', 'domnei', 'yunfei', 'laquei', 'lurlei', 'lushei', 'maffei', 'mimpei', 'nasiei', 'sangei', 'sansei', 'sergei', 'shimei', 'suisei', 'taipei', 'wu-wei']\n"
     ]
    }
   ],
   "source": [
    "# Usa le parole già caricate dalla cella precedente\n",
    "# (se non le hai ancora caricate, esegui prima la cella 7)\n",
    "\n",
    "patternL = '****ei'\n",
    "risultatiL = cerca_parole(parole, patternL)\n",
    "print(f\"Parole trovate per il pattern '{patternL}':\")\n",
    "print(risultatiL)"
   ]
  }
 ],
 "metadata": {
  "kernelspec": {
   "display_name": "Python 3",
   "language": "python",
   "name": "python3"
  },
  "language_info": {
   "codemirror_mode": {
    "name": "ipython",
    "version": 3
   },
   "file_extension": ".py",
   "mimetype": "text/x-python",
   "name": "python",
   "nbconvert_exporter": "python",
   "pygments_lexer": "ipython3",
   "version": "3.12.11"
  }
 },
 "nbformat": 4,
 "nbformat_minor": 5
}
